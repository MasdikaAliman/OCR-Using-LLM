{
 "cells": [
  {
   "cell_type": "code",
   "execution_count": 1,
   "id": "fade3604",
   "metadata": {},
   "outputs": [],
   "source": [
    "import lmstudio as lms\n",
    "import os \n",
    "import pandas as pd\n",
    "import Levenshtein\n",
    "from icecream import ic"
   ]
  },
  {
   "cell_type": "code",
   "execution_count": 3,
   "id": "59851812",
   "metadata": {},
   "outputs": [
    {
     "data": {
      "text/plain": [
       "0.0"
      ]
     },
     "execution_count": 3,
     "metadata": {},
     "output_type": "execute_result"
    }
   ],
   "source": [
    "str1 = \"B2842PKM\"\n",
    "str2 = \"B2842PKM\"\n",
    "\n",
    "def calculate_cer(reference, hypothesis):\n",
    "    # Calculate Levenshtein distance\n",
    "    edit_distance = Levenshtein.distance(reference, hypothesis)\n",
    "    # Calculate CER\n",
    "    cer = edit_distance / len(reference)\n",
    "    return cer\n",
    "\n",
    "cer_score = calculate_cer(str1, str2)\n",
    "cer_score"
   ]
  },
  {
   "cell_type": "code",
   "execution_count": 32,
   "id": "979b1b83",
   "metadata": {},
   "outputs": [],
   "source": [
    "predictions  = []\n",
    "true_label = []\n",
    "image_names = []\n",
    "CER_scores = []"
   ]
  },
  {
   "cell_type": "code",
   "execution_count": 33,
   "id": "4c226469",
   "metadata": {},
   "outputs": [],
   "source": [
    "model = lms.llm(\"qwen2-vl-2b-instruct\")\n",
    "\n",
    "for file in sorted(os.listdir(\"../../PlateTEST/test/\")):\n",
    "    if file.endswith(\".jpg\") or file.endswith(\".png\"):\n",
    "        image_path = os.path.join(\"../../PlateTEST/test/\", file)\n",
    "        true_path = os.path.join(\"../../PlateTEST/labels/\", file.replace('.jpg', '.txt'))\n",
    "        image_names.append(file)\n",
    "        # ic(image_path, truth_path)\n",
    "\n",
    "        with open(os.path.join(\"../../PlateTEST/labels/\", true_path), 'r') as f:\n",
    "            truth = f.read().strip()\n",
    "            true_label.append(truth)\n",
    "        \n",
    "        image_handle = lms.prepare_image(image_path)\n",
    "        chat = lms.Chat()\n",
    "        chat.add_user_message(\"What is the license plate number shown in this image? Respond only with the plate number without any spaces, punctuation, or additional text. \", \n",
    "                      images=[image_handle])\n",
    "        predict = model.respond(chat)\n",
    "        predictions.append(predict)\n",
    "        \n",
    "        cer_score = calculate_cer(\n",
    "        str(truth).strip(), \n",
    "        str(predict).strip())   \n",
    "        CER_scores.append(cer_score)"
   ]
  },
  {
   "cell_type": "code",
   "execution_count": null,
   "id": "7d7f799b",
   "metadata": {},
   "outputs": [
    {
     "name": "stderr",
     "output_type": "stream",
     "text": [
      "{\"event\": \"Websocket failed, terminating session.\", \"ws_url\": \"ws://localhost:1234/llm\"}\n",
      "Traceback (most recent call last):\n",
      "  File \"/home/dika/miniconda3/envs/MachineLearning/lib/python3.11/site-packages/lmstudio/_ws_impl.py\", line 475, in _receive_messages\n",
      "    await self._process_next_message()\n",
      "  File \"/home/dika/miniconda3/envs/MachineLearning/lib/python3.11/site-packages/lmstudio/_ws_impl.py\", line 466, in _process_next_message\n",
      "    message = await ws.receive_json()\n",
      "              ^^^^^^^^^^^^^^^^^^^^^^^\n",
      "  File \"/home/dika/miniconda3/envs/MachineLearning/lib/python3.11/site-packages/httpx_ws/_api.py\", line 951, in receive_json\n",
      "    data = await self.receive_text(timeout)\n",
      "           ^^^^^^^^^^^^^^^^^^^^^^^^^^^^^^^^\n",
      "  File \"/home/dika/miniconda3/envs/MachineLearning/lib/python3.11/site-packages/httpx_ws/_api.py\", line 861, in receive_text\n",
      "    event = await self.receive(timeout)\n",
      "            ^^^^^^^^^^^^^^^^^^^^^^^^^^^\n",
      "  File \"/home/dika/miniconda3/envs/MachineLearning/lib/python3.11/site-packages/httpx_ws/_api.py\", line 821, in receive\n",
      "    raise event\n",
      "httpx_ws._exceptions.WebSocketNetworkError\n",
      "Stack (most recent call last):\n",
      "  File \"/home/dika/miniconda3/envs/MachineLearning/lib/python3.11/threading.py\", line 1002, in _bootstrap\n",
      "    self._bootstrap_inner()\n",
      "  File \"/home/dika/miniconda3/envs/MachineLearning/lib/python3.11/threading.py\", line 1045, in _bootstrap_inner\n",
      "    self.run()\n",
      "  File \"/home/dika/miniconda3/envs/MachineLearning/lib/python3.11/site-packages/lmstudio/_ws_impl.py\", line 240, in run\n",
      "    asyncio.run(self._task_manager.run_until_terminated(self._task_target))\n",
      "  File \"/home/dika/miniconda3/envs/MachineLearning/lib/python3.11/asyncio/runners.py\", line 190, in run\n",
      "    return runner.run(main)\n",
      "  File \"/home/dika/miniconda3/envs/MachineLearning/lib/python3.11/asyncio/runners.py\", line 118, in run\n",
      "    return self._loop.run_until_complete(task)\n",
      "  File \"/home/dika/miniconda3/envs/MachineLearning/lib/python3.11/asyncio/base_events.py\", line 641, in run_until_complete\n",
      "    self.run_forever()\n",
      "  File \"/home/dika/miniconda3/envs/MachineLearning/lib/python3.11/asyncio/base_events.py\", line 608, in run_forever\n",
      "    self._run_once()\n",
      "  File \"/home/dika/miniconda3/envs/MachineLearning/lib/python3.11/asyncio/base_events.py\", line 1936, in _run_once\n",
      "    handle._run()\n",
      "  File \"/home/dika/miniconda3/envs/MachineLearning/lib/python3.11/asyncio/events.py\", line 84, in _run\n",
      "    self._context.run(self._callback, *self._args)\n",
      "  File \"/home/dika/miniconda3/envs/MachineLearning/lib/python3.11/site-packages/lmstudio/_ws_impl.py\", line 360, in _logged_ws_handler\n",
      "    await self._handle_ws()\n",
      "  File \"/home/dika/miniconda3/envs/MachineLearning/lib/python3.11/site-packages/lmstudio/_ws_impl.py\", line 397, in _handle_ws\n",
      "    await self._receive_messages()\n",
      "  File \"/home/dika/miniconda3/envs/MachineLearning/lib/python3.11/site-packages/lmstudio/_ws_impl.py\", line 479, in _receive_messages\n",
      "    self._logger.exception(\"Websocket failed, terminating session.\")\n",
      "{\"event\": \"Websocket failed, terminating session.\", \"ws_url\": \"ws://localhost:1234/files\"}\n",
      "Traceback (most recent call last):\n",
      "  File \"/home/dika/miniconda3/envs/MachineLearning/lib/python3.11/site-packages/lmstudio/_ws_impl.py\", line 475, in _receive_messages\n",
      "    await self._process_next_message()\n",
      "  File \"/home/dika/miniconda3/envs/MachineLearning/lib/python3.11/site-packages/lmstudio/_ws_impl.py\", line 466, in _process_next_message\n",
      "    message = await ws.receive_json()\n",
      "              ^^^^^^^^^^^^^^^^^^^^^^^\n",
      "  File \"/home/dika/miniconda3/envs/MachineLearning/lib/python3.11/site-packages/httpx_ws/_api.py\", line 951, in receive_json\n",
      "    data = await self.receive_text(timeout)\n",
      "           ^^^^^^^^^^^^^^^^^^^^^^^^^^^^^^^^\n",
      "  File \"/home/dika/miniconda3/envs/MachineLearning/lib/python3.11/site-packages/httpx_ws/_api.py\", line 861, in receive_text\n",
      "    event = await self.receive(timeout)\n",
      "            ^^^^^^^^^^^^^^^^^^^^^^^^^^^\n",
      "  File \"/home/dika/miniconda3/envs/MachineLearning/lib/python3.11/site-packages/httpx_ws/_api.py\", line 821, in receive\n",
      "    raise event\n",
      "httpx_ws._exceptions.WebSocketNetworkError\n",
      "Stack (most recent call last):\n",
      "  File \"/home/dika/miniconda3/envs/MachineLearning/lib/python3.11/threading.py\", line 1002, in _bootstrap\n",
      "    self._bootstrap_inner()\n",
      "  File \"/home/dika/miniconda3/envs/MachineLearning/lib/python3.11/threading.py\", line 1045, in _bootstrap_inner\n",
      "    self.run()\n",
      "  File \"/home/dika/miniconda3/envs/MachineLearning/lib/python3.11/site-packages/lmstudio/_ws_impl.py\", line 240, in run\n",
      "    asyncio.run(self._task_manager.run_until_terminated(self._task_target))\n",
      "  File \"/home/dika/miniconda3/envs/MachineLearning/lib/python3.11/asyncio/runners.py\", line 190, in run\n",
      "    return runner.run(main)\n",
      "  File \"/home/dika/miniconda3/envs/MachineLearning/lib/python3.11/asyncio/runners.py\", line 118, in run\n",
      "    return self._loop.run_until_complete(task)\n",
      "  File \"/home/dika/miniconda3/envs/MachineLearning/lib/python3.11/asyncio/base_events.py\", line 641, in run_until_complete\n",
      "    self.run_forever()\n",
      "  File \"/home/dika/miniconda3/envs/MachineLearning/lib/python3.11/asyncio/base_events.py\", line 608, in run_forever\n",
      "    self._run_once()\n",
      "  File \"/home/dika/miniconda3/envs/MachineLearning/lib/python3.11/asyncio/base_events.py\", line 1936, in _run_once\n",
      "    handle._run()\n",
      "  File \"/home/dika/miniconda3/envs/MachineLearning/lib/python3.11/asyncio/events.py\", line 84, in _run\n",
      "    self._context.run(self._callback, *self._args)\n",
      "  File \"/home/dika/miniconda3/envs/MachineLearning/lib/python3.11/site-packages/lmstudio/_ws_impl.py\", line 360, in _logged_ws_handler\n",
      "    await self._handle_ws()\n",
      "  File \"/home/dika/miniconda3/envs/MachineLearning/lib/python3.11/site-packages/lmstudio/_ws_impl.py\", line 397, in _handle_ws\n",
      "    await self._receive_messages()\n",
      "  File \"/home/dika/miniconda3/envs/MachineLearning/lib/python3.11/site-packages/lmstudio/_ws_impl.py\", line 479, in _receive_messages\n",
      "    self._logger.exception(\"Websocket failed, terminating session.\")\n"
     ]
    }
   ],
   "source": [
    "coulumns = ['Image_Name', 'Ground_Truth', 'Prediction', 'CER_Score']\n",
    "data = {\n",
    "    'Image_Name': image_names,\n",
    "    'Ground_Truth': true_label,\n",
    "    'Prediction': predictions,\n",
    "    'CER_Score': CER_scores\n",
    "}\n",
    "df = pd.DataFrame(data, columns=coulumns)\n",
    "df.to_excel(\"UAS_VISION_results.xlsx\", index=False)\n",
    "df.to_csv(\"UAS_VISION_results.csv\", index=False)\n"
   ]
  }
 ],
 "metadata": {
  "kernelspec": {
   "display_name": "MachineLearning",
   "language": "python",
   "name": "python3"
  },
  "language_info": {
   "codemirror_mode": {
    "name": "ipython",
    "version": 3
   },
   "file_extension": ".py",
   "mimetype": "text/x-python",
   "name": "python",
   "nbconvert_exporter": "python",
   "pygments_lexer": "ipython3",
   "version": "3.11.11"
  }
 },
 "nbformat": 4,
 "nbformat_minor": 5
}
